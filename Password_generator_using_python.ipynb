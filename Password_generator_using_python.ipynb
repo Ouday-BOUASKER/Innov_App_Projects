{
  "nbformat": 4,
  "nbformat_minor": 0,
  "metadata": {
    "colab": {
      "provenance": [],
      "authorship_tag": "ABX9TyPOgfS4tlRfgt8hmv84v9yy"
    },
    "kernelspec": {
      "name": "python3",
      "display_name": "Python 3"
    },
    "language_info": {
      "name": "python"
    }
  },
  "cells": [
    {
      "cell_type": "markdown",
      "source": [
        "Lowercase letters\n",
        "\n",
        "Generate two random lowercase letters, concatenate them together, and print the result on the screen!\n",
        "\n",
        "Each character have a numeric representation called ASCII value, for lower case letters it's the numbers from 97 to 122.\n"
      ],
      "metadata": {
        "id": "XRsTFVv2Pxzp"
      }
    },
    {
      "cell_type": "markdown",
      "source": [
        "First method:"
      ],
      "metadata": {
        "id": "qR_x3f5BQKot"
      }
    },
    {
      "cell_type": "code",
      "execution_count": null,
      "metadata": {
        "id": "werAt1uwPo-F"
      },
      "outputs": [],
      "source": [
        "first_letter = chr(int(input()))\n",
        "next_letter = chr(int(input()))\n",
        "result = first_letter + next_letter\n",
        "print(f'{result}')\n"
      ]
    },
    {
      "cell_type": "markdown",
      "source": [
        "Second method:"
      ],
      "metadata": {
        "id": "Mu7E_dbVQWDA"
      }
    },
    {
      "cell_type": "code",
      "source": [
        "import random\n",
        "first_num = random.randint(97,122)\n",
        "second_num = random.randint(97,122)\n",
        "\n",
        "first_letter = chr(first_num)\n",
        "next_letter = chr(second_num)\n",
        "result = first_letter + next_letter\n",
        "print(f'{result}')\n"
      ],
      "metadata": {
        "colab": {
          "base_uri": "https://localhost:8080/"
        },
        "id": "VYDa7hz-QZYR",
        "outputId": "82a0b6a5-313f-4d95-cfb7-4a740ac5e725"
      },
      "execution_count": null,
      "outputs": [
        {
          "output_type": "stream",
          "name": "stdout",
          "text": [
            "hz\n"
          ]
        }
      ]
    },
    {
      "cell_type": "markdown",
      "source": [
        "Uppercase letters"
      ],
      "metadata": {
        "id": "ShgIpgF-Qi44"
      }
    },
    {
      "cell_type": "code",
      "source": [
        "import random\n",
        "\n",
        "first_num = random.randint(97,122)\n",
        "second_num = random.randint(97,122)\n",
        "\n",
        "third_num = random.randint(65,90)\n",
        "forth_num = random.randint(65,90)\n",
        "\n",
        "first_letter = chr(first_num)\n",
        "next_letter = chr(second_num)\n",
        "\n",
        "third_letter = chr(third_num)\n",
        "forth_letter = chr(forth_num)\n",
        "\n",
        "result = first_letter + next_letter + third_letter + forth_letter\n",
        "print(f'{result}')\n"
      ],
      "metadata": {
        "colab": {
          "base_uri": "https://localhost:8080/"
        },
        "id": "bOirfNHcQj7N",
        "outputId": "a2c71b29-13a4-4bad-bb74-0dbd466a6db9"
      },
      "execution_count": null,
      "outputs": [
        {
          "output_type": "stream",
          "name": "stdout",
          "text": [
            "juFM\n"
          ]
        }
      ]
    },
    {
      "cell_type": "markdown",
      "source": [
        "Digits"
      ],
      "metadata": {
        "id": "xIGDBml0QwLK"
      }
    },
    {
      "cell_type": "code",
      "source": [
        "import random\n",
        "\n",
        "first_num = random.randint(97,122)\n",
        "second_num = random.randint(97,122)\n",
        "\n",
        "third_num = random.randint(65,90)\n",
        "forth_num = random.randint(65,90)\n",
        "\n",
        "fifth_num = random.randint(48,57)\n",
        "sixth_num = random.randint(48,57)\n",
        "\n",
        "first_letter = chr(first_num)\n",
        "next_letter = chr(second_num)\n",
        "third_letter = chr(third_num)\n",
        "forth_letter = chr(forth_num)\n",
        "fifth_inp = chr(fifth_num)\n",
        "sixth_inp = chr(sixth_num)\n",
        "\n",
        "result = first_letter + next_letter + third_letter + forth_letter + fifth_inp + sixth_inp\n",
        "print(f'{result}')\n"
      ],
      "metadata": {
        "colab": {
          "base_uri": "https://localhost:8080/"
        },
        "id": "9_2W-U3IQxP_",
        "outputId": "fbbdbe16-5191-4552-8f54-9967fac061f1"
      },
      "execution_count": null,
      "outputs": [
        {
          "output_type": "stream",
          "name": "stdout",
          "text": [
            "qoMI81\n"
          ]
        }
      ]
    },
    {
      "cell_type": "markdown",
      "source": [
        "Symbols"
      ],
      "metadata": {
        "id": "61FuOG9USndg"
      }
    },
    {
      "cell_type": "code",
      "source": [
        "import random\n",
        "\n",
        "first_num = random.randint(97,122)\n",
        "second_num = random.randint(97,122)\n",
        "\n",
        "third_num = random.randint(65,90)\n",
        "forth_num = random.randint(65,90)\n",
        "\n",
        "fifth_num = random.randint(48,57)\n",
        "sixth_num = random.randint(48,57)\n",
        "\n",
        "seventh_num = random.randint(33,47)\n",
        "eighth_num = random.randint(33,47)\n",
        "\n",
        "first_letter = chr(first_num)\n",
        "next_letter = chr(second_num)\n",
        "third_letter = chr(third_num)\n",
        "forth_letter = chr(forth_num)\n",
        "fifth_inp = chr(fifth_num)\n",
        "sixth_inp = chr(sixth_num)\n",
        "seventh_inp = chr(seventh_num)\n",
        "eighth_inp = chr(eighth_num)\n",
        "\n",
        "result = first_letter + next_letter + third_letter + forth_letter + fifth_inp + sixth_inp + seventh_inp + eighth_inp\n",
        "print(f'{result}')\n"
      ],
      "metadata": {
        "colab": {
          "base_uri": "https://localhost:8080/"
        },
        "id": "XuZGk0ocSoWK",
        "outputId": "c5f63a1e-c76d-4972-8f3f-f3474b7bdc55"
      },
      "execution_count": null,
      "outputs": [
        {
          "output_type": "stream",
          "name": "stdout",
          "text": [
            "yuFH83$/\n"
          ]
        }
      ]
    },
    {
      "cell_type": "markdown",
      "source": [
        "Shuffle"
      ],
      "metadata": {
        "id": "_6Tivd6PVP7r"
      }
    },
    {
      "cell_type": "code",
      "source": [
        "import random\n",
        "\n",
        "first_num = random.randint(97,122)\n",
        "second_num = random.randint(97,122)\n",
        "\n",
        "third_num = random.randint(65,90)\n",
        "forth_num = random.randint(65,90)\n",
        "\n",
        "fifth_num = random.randint(48,57)\n",
        "sixth_num = random.randint(48,57)\n",
        "\n",
        "seventh_num = random.randint(33,47)\n",
        "eighth_num = random.randint(33,47)\n",
        "\n",
        "first_letter = chr(first_num)\n",
        "next_letter = chr(second_num)\n",
        "third_letter = chr(third_num)\n",
        "forth_letter = chr(forth_num)\n",
        "fifth_inp = chr(fifth_num)\n",
        "sixth_inp = chr(sixth_num)\n",
        "seventh_inp = chr(seventh_num)\n",
        "eighth_inp = chr(eighth_num)\n",
        "\n",
        "#result = first_letter + next_letter + third_letter + forth_letter + fifth_inp + sixth_inp + seventh_inp + eighth_inp\n",
        "result = eighth_inp + first_letter + seventh_inp + next_letter + fifth_inp + forth_letter + third_letter + sixth_inp\n",
        "print(f'{result}')\n"
      ],
      "metadata": {
        "id": "am7v-bYDVQ1d",
        "outputId": "0519d9fa-e765-4d57-eef3-6fbbc3f3073e",
        "colab": {
          "base_uri": "https://localhost:8080/"
        }
      },
      "execution_count": null,
      "outputs": [
        {
          "output_type": "stream",
          "name": "stdout",
          "text": [
            "(q\"s6PG2\n"
          ]
        }
      ]
    }
  ]
}