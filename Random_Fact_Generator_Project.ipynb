{
  "nbformat": 4,
  "nbformat_minor": 0,
  "metadata": {
    "colab": {
      "provenance": [],
      "authorship_tag": "ABX9TyMggWDXkXXKWShmttVJkaR2"
    },
    "kernelspec": {
      "name": "python3",
      "display_name": "Python 3"
    },
    "language_info": {
      "name": "python"
    }
  },
  "cells": [
    {
      "cell_type": "markdown",
      "source": [
        "Create a function named get_fact that gets no arguments and returns \"some fact\" (for now…)\n"
      ],
      "metadata": {
        "id": "4asIhjxrOBxp"
      }
    },
    {
      "cell_type": "code",
      "execution_count": null,
      "metadata": {
        "colab": {
          "base_uri": "https://localhost:8080/",
          "height": 36
        },
        "id": "sqsUFj_fN9sn",
        "outputId": "f50f45a5-cce8-4806-a890-883e19def2e2"
      },
      "outputs": [
        {
          "output_type": "execute_result",
          "data": {
            "text/plain": [
              "'some fact'"
            ],
            "application/vnd.google.colaboratory.intrinsic+json": {
              "type": "string"
            }
          },
          "metadata": {},
          "execution_count": 2
        }
      ],
      "source": [
        "def get_fact():\n",
        "    name_fact = \"some fact\"\n",
        "    return name_fact\n",
        "\n",
        "get_fact()"
      ]
    },
    {
      "cell_type": "markdown",
      "source": [
        "uselessfacts\n",
        "\n",
        "As stated before, we will use the public API:\n",
        "\n",
        "https://uselessfacts.jsph.pl/\n",
        "\n",
        "And, more specifically, the end point /api/v2/facts/random which gets a random fact from the API."
      ],
      "metadata": {
        "id": "cMCq-95CY4FJ"
      }
    },
    {
      "cell_type": "code",
      "source": [
        "def get_fact():\n",
        "    name_fact = \"https://uselessfacts.jsph.pl/api/v2/facts/random\"\n",
        "    return name_fact\n",
        "\n",
        "get_fact()"
      ],
      "metadata": {
        "colab": {
          "base_uri": "https://localhost:8080/",
          "height": 36
        },
        "id": "EJH0N2iRY82Z",
        "outputId": "c807e928-ee98-459f-cb87-6e7bf470c960"
      },
      "execution_count": null,
      "outputs": [
        {
          "output_type": "execute_result",
          "data": {
            "text/plain": [
              "'https://uselessfacts.jsph.pl/api/v2/facts/random'"
            ],
            "application/vnd.google.colaboratory.intrinsic+json": {
              "type": "string"
            }
          },
          "metadata": {},
          "execution_count": 1
        }
      ]
    },
    {
      "cell_type": "markdown",
      "source": [
        "requests library\n",
        "\n",
        "To “fetch” (or get) the content of the API we will use the library called requests.\n",
        "\n",
        "Using the get method it's possible to get a web page content:\n",
        "\n",
        "The response object has many attributes, the one we will look at is text, which returns a string of the website content\n",
        "\n",
        "****\n",
        "\n",
        "Now, change the function (get_fact) body so that it will get the content from the API end point (from the URL in the previous step) and return the response text!"
      ],
      "metadata": {
        "id": "HYX_j2A8ZKNf"
      }
    },
    {
      "cell_type": "code",
      "source": [
        "import requests\n",
        "\n",
        "def get_fact():\n",
        "    response = requests.get(\"https://uselessfacts.jsph.pl/api/v2/facts/random\")\n",
        "    content = response.text\n",
        "    return content\n",
        "\n",
        "get_fact()"
      ],
      "metadata": {
        "colab": {
          "base_uri": "https://localhost:8080/",
          "height": 55
        },
        "id": "hg7LilXhZ0vO",
        "outputId": "f972f6f4-8304-4375-c2f8-4d351bbf0fe8"
      },
      "execution_count": null,
      "outputs": [
        {
          "output_type": "execute_result",
          "data": {
            "text/plain": [
              "'{\"id\":\"a2431ba4bac75532e8ec9f36c76d44b6\",\"text\":\"A cat has 32 muscles in each ear.\",\"source\":\"djtech.net\",\"source_url\":\"http://www.djtech.net/humor/useless_facts.htm\",\"language\":\"en\",\"permalink\":\"https://uselessfacts.jsph.pl/api/v2/facts/a2431ba4bac75532e8ec9f36c76d44b6\"}\\n'"
            ],
            "application/vnd.google.colaboratory.intrinsic+json": {
              "type": "string"
            }
          },
          "metadata": {},
          "execution_count": 3
        }
      ]
    },
    {
      "cell_type": "markdown",
      "source": [
        "json library\n",
        "\n",
        "After we have the content in a string format, we want to extract the fact itself.\n",
        "\n",
        "Maybe you noticed, but the content is in a format called JSON, and we will use the json library to extract the content from it.\n",
        "\n",
        "The json library, converts a string in a JSON format to a Python dictionary\n",
        "\n",
        "In the end, data will hold a valid Python dictionary!\n",
        "\n",
        "------\n",
        "\n",
        "In the function body, after you get the content from the API, convert it to Python dictionary and extract the fact (which attribute holds it?) return it in the end.\n",
        "\n",
        "You can check here the format to understand better what attribute you are looking for:\n",
        "\n",
        "https://uselessfacts.jsph.pl/api/v2/facts/random\n"
      ],
      "metadata": {
        "id": "0yTY_UQIfNZ1"
      }
    },
    {
      "cell_type": "code",
      "source": [
        "import requests\n",
        "import json\n",
        "\n",
        "def get_fact():\n",
        "    response = requests.get(\"https://uselessfacts.jsph.pl/api/v2/facts/random\")\n",
        "    content = response.text\n",
        "    data = json.loads(content)\n",
        "    fact_text = data[\"text\"]\n",
        "    return fact_text\n",
        "\n",
        "get_fact()\n"
      ],
      "metadata": {
        "colab": {
          "base_uri": "https://localhost:8080/",
          "height": 36
        },
        "id": "cFyrj8GFfzEW",
        "outputId": "cddacf10-2010-4d74-bd42-1cf46bce9ea8"
      },
      "execution_count": null,
      "outputs": [
        {
          "output_type": "execute_result",
          "data": {
            "text/plain": [
              "'The average person`s left hand does 56% of the typing.'"
            ],
            "application/vnd.google.colaboratory.intrinsic+json": {
              "type": "string"
            }
          },
          "metadata": {},
          "execution_count": 4
        }
      ]
    },
    {
      "cell_type": "markdown",
      "source": [
        "Number of Facts\n",
        "\n",
        "The function is working, it is generating a random fact each time!\n",
        "\n",
        "Now, let's call it X times.\n",
        "\n",
        "---\n",
        "\n",
        "From outside the function, get input (a number) and call the function this number of times, each time, print the generated fact!"
      ],
      "metadata": {
        "id": "2pspkMCihmjJ"
      }
    },
    {
      "cell_type": "code",
      "source": [
        "import requests\n",
        "import json\n",
        "\n",
        "def get_fact():\n",
        "    response = requests.get(\"https://uselessfacts.jsph.pl/api/v2/facts/random\")\n",
        "    content = response.text\n",
        "    data = json.loads(content)\n",
        "    # Extract the fact text using the 'text' key\n",
        "    fact_text = data['text']\n",
        "    return fact_text\n",
        "\n",
        "X = int(input())\n",
        "for i in range (X):\n",
        "    print(get_fact())"
      ],
      "metadata": {
        "colab": {
          "base_uri": "https://localhost:8080/"
        },
        "id": "7SrwkhFEhwNF",
        "outputId": "193c8bd3-6940-417c-ca50-5ba969477d83"
      },
      "execution_count": null,
      "outputs": [
        {
          "output_type": "stream",
          "name": "stdout",
          "text": [
            "3\n",
            "\"I am.\" is the shortest complete sentence in the English language.\n",
            "Shakespeare invented the word `assassination` and `bump`.\n",
            "The Ramses brand condom is named after the great pharoh Ramses II who fathered over 160 children.\n"
          ]
        }
      ]
    },
    {
      "cell_type": "markdown",
      "source": [
        "Limitations\n",
        "\n",
        "Let's add some limitations.\n",
        "\n",
        "----\n",
        "If the input number is greater than 7, output \"Maximum number of facts per execution is 7\".\n",
        "\n",
        "If the input number is smaller than 0, output \"Minimum number of facts per execution is 1\".\n",
        "\n",
        "For this project, we will assume the input will always be a number."
      ],
      "metadata": {
        "id": "MBVieBmPqDui"
      }
    },
    {
      "cell_type": "code",
      "source": [
        "import requests\n",
        "import json\n",
        "\n",
        "def get_fact():\n",
        "    response = requests.get(\"https://uselessfacts.jsph.pl/api/v2/facts/random\")\n",
        "    content = response.text\n",
        "    data = json.loads(content)\n",
        "    # Extract the fact text using the 'text' key\n",
        "    fact_text = data['text']\n",
        "    return fact_text\n",
        "\n",
        "X = int(input())\n",
        "if X <= 0:\n",
        "    print(\"Minimum number of facts per execution is 1\")\n",
        "elif X > 7:\n",
        "    print(\"Maximum number of facts per execution is 7\")\n",
        "else:\n",
        "    for i in range (X):\n",
        "        print(get_fact())"
      ],
      "metadata": {
        "colab": {
          "base_uri": "https://localhost:8080/"
        },
        "id": "t0TxTWE9qQs4",
        "outputId": "ea2c2ba2-44bb-41f5-c199-ff1726156735"
      },
      "execution_count": null,
      "outputs": [
        {
          "output_type": "stream",
          "name": "stdout",
          "text": [
            "0\n",
            "Minimum number of facts per execution is 1\n"
          ]
        }
      ]
    },
    {
      "cell_type": "markdown",
      "source": [
        "Final words\n",
        "\n",
        "That's it! You have a working fact generator!\n",
        "\n",
        "What's next? here are some ideas:\n",
        "\n",
        "Handling errors with inputs\n",
        "Welcome message and some input messages\n",
        "Filter facts by some condition\n",
        "Get the fact of the day (https://uselessfacts.jsph.pl/api/v2/facts/today) based on some input\n",
        "And many more…\n",
        "\n",
        "----\n",
        "\n",
        "Run the code to complete the project, and generate 3 facts :)\n"
      ],
      "metadata": {
        "id": "-45qmNp9uPfK"
      }
    },
    {
      "cell_type": "code",
      "source": [
        "import requests\n",
        "import json\n",
        "\n",
        "def get_fact():\n",
        "    response = requests.get(\"https://uselessfacts.jsph.pl/api/v2/facts/random\")\n",
        "    content = response.text\n",
        "    data = json.loads(content)\n",
        "    # Extract the fact text using the 'text' key\n",
        "    fact_text = data['text']\n",
        "    return fact_text\n",
        "\n",
        "X = int(input())\n",
        "if X <= 0:\n",
        "    print(\"Minimum number of facts per execution is 1\")\n",
        "elif X > 7:\n",
        "    print(\"Maximum number of facts per execution is 7\")\n",
        "else:\n",
        "    for i in range (X):\n",
        "        print(get_fact())"
      ],
      "metadata": {
        "colab": {
          "base_uri": "https://localhost:8080/"
        },
        "id": "TrDzKS9nuX66",
        "outputId": "6257cca9-0e51-4921-dbe4-b70ffd0b7747"
      },
      "execution_count": null,
      "outputs": [
        {
          "output_type": "stream",
          "name": "stdout",
          "text": [
            "6\n",
            "1 in every 4 Americans has appeared someway or another on television.\n",
            "Only female mosquito’s` bite and most are attracted to the color blue twice as much as to any other color.\n",
            "You spend 7 years of your life in the bathroom.\n",
            "Maine is the only state whose name is just one syllable.\n",
            "Babies are most likely to be born on Tuesdays.\n",
            "The word Pennsylvania is misspelled on the Liberty Bell.\n"
          ]
        }
      ]
    }
  ]
}