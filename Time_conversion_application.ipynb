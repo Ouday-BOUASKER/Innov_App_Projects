{
  "nbformat": 4,
  "nbformat_minor": 0,
  "metadata": {
    "colab": {
      "provenance": [],
      "authorship_tag": "ABX9TyNgwia0t7sXOdzZjqqdnLQR"
    },
    "kernelspec": {
      "name": "python3",
      "display_name": "Python 3"
    },
    "language_info": {
      "name": "python"
    }
  },
  "cells": [
    {
      "cell_type": "markdown",
      "source": [
        "**STEP 1** ▶ ▶"
      ],
      "metadata": {
        "id": "qosaHIxfD9pB"
      }
    },
    {
      "cell_type": "code",
      "source": [
        "def seconds_difference(time_1, time_2):   #Headline\n",
        "#The following part will determine the Type Contract, then a small description and giving some examples to demonstrate the code is supposed to accomplish\n",
        "    \"\"\" (number, number) -> number\n",
        "\n",
        "    Return the number of seconds later that a time in seconds\n",
        "    time_2 is than a time in seconds time_1.\n",
        "\n",
        "    >>> seconds_difference(1800.0, 3600.0)\n",
        "    1800.0\n",
        "    >>> seconds_difference(3600.0, 1800.0)\n",
        "    -1800.0\n",
        "    >>> seconds_difference(1800.0, 2160.0)\n",
        "    360.0\n",
        "    >>> seconds_difference(1800.0, 1800.0)\n",
        "    0.0\n",
        "    \"\"\"\n",
        "    return time_2 - time_1               #Body\n",
        "\n",
        "#seconds_difference(1800.0, 3600.0)\n",
        "seconds_difference(3600.0, 1800.0)       #Test\n",
        "#seconds_difference(1800.0, 2160.0)\n",
        "#_difference(1800.0, 1800.0)"
      ],
      "metadata": {
        "colab": {
          "base_uri": "https://localhost:8080/"
        },
        "id": "4if7CJxhitKD",
        "outputId": "338fa065-fa76-4bfc-b4b2-fa214afc252b"
      },
      "execution_count": null,
      "outputs": [
        {
          "output_type": "execute_result",
          "data": {
            "text/plain": [
              "-1800.0"
            ]
          },
          "metadata": {},
          "execution_count": 123
        }
      ]
    },
    {
      "cell_type": "markdown",
      "source": [
        " **STEP 2** ▶ ▶"
      ],
      "metadata": {
        "id": "ehheLHHnFF6k"
      }
    },
    {
      "cell_type": "code",
      "source": [
        "def hours_difference(time_1, time_2):\n",
        "    \"\"\" (number, number) -> float\n",
        "\n",
        "    Return the number of hours later that a time in seconds\n",
        "    time_2 is than a time in seconds time_1.\n",
        "\n",
        "    >>> hours_difference(1800.0, 3600.0)\n",
        "    0.5\n",
        "    >>> hours_difference(3600.0, 1800.0)\n",
        "    -0.5\n",
        "    >>> hours_difference(1800.0, 2160.0)\n",
        "    0.1\n",
        "    >>> hours_difference(1800.0, 1800.0)\n",
        "    0.0\n",
        "    \"\"\"\n",
        "    time_1_hour = time_1 / 3600\n",
        "    time_2_hour = time_2 / 3600\n",
        "    return time_2_hour - time_1_hour\n",
        "\n",
        "#hours_difference(1800.0, 3600.0)\n",
        "hours_difference(3600.0, 1800.0)\n",
        "#hours_difference(1800.0, 2160.0)\n",
        "#hours_difference(1800.0, 1800.0)"
      ],
      "metadata": {
        "colab": {
          "base_uri": "https://localhost:8080/"
        },
        "id": "k0cFmkD0iuYa",
        "outputId": "1cd28cee-14e9-4914-c096-0839fa799afb"
      },
      "execution_count": null,
      "outputs": [
        {
          "output_type": "execute_result",
          "data": {
            "text/plain": [
              "-0.5"
            ]
          },
          "metadata": {},
          "execution_count": 99
        }
      ]
    },
    {
      "cell_type": "markdown",
      "source": [
        "**STEP 3** ▶ ▶"
      ],
      "metadata": {
        "id": "IOOuvNkqFckL"
      }
    },
    {
      "cell_type": "code",
      "source": [
        "def to_float_hours(hours, minutes, seconds):\n",
        "    \"\"\" (int, int, int) -> float\n",
        "\n",
        "    Return the total number of hours in the specified number\n",
        "    of hours, minutes, and seconds.\n",
        "\n",
        "    Precondition: 0 <= minutes < 60  and  0 <= seconds < 60\n",
        "\n",
        "    >>> to_float_hours(0, 15, 0)\n",
        "    0.25\n",
        "    >>> to_float_hours(2, 45, 9)\n",
        "    2.7525\n",
        "    >>> to_float_hours(1, 0, 36)\n",
        "    1.01\n",
        "    \"\"\"\n",
        "\n",
        "    seconds_to_hours = seconds / 3600\n",
        "    minutes_to_hours = minutes / 60\n",
        "    float_hours = hours + minutes_to_hours + seconds_to_hours\n",
        "    return float_hours\n",
        "\n",
        "#to_float_hours(0, 15, 0)\n",
        "to_float_hours(2, 45, 9)\n",
        "#to_float_hours(1, 0, 36)"
      ],
      "metadata": {
        "colab": {
          "base_uri": "https://localhost:8080/"
        },
        "id": "PY5el0Soi5SI",
        "outputId": "2bd1eb38-eef8-4fb6-9069-0b41284a3860"
      },
      "execution_count": null,
      "outputs": [
        {
          "output_type": "execute_result",
          "data": {
            "text/plain": [
              "2.7525"
            ]
          },
          "metadata": {},
          "execution_count": 98
        }
      ]
    },
    {
      "cell_type": "markdown",
      "source": [
        "**STEP 4** ▶ ▶"
      ],
      "metadata": {
        "id": "ZTn-UzogFh8D"
      }
    },
    {
      "cell_type": "code",
      "source": [
        "def to_24_hour_clock(hours):\n",
        "    \"\"\" (number) -> number\n",
        "\n",
        "    hours is a number of hours since midnight. Return the\n",
        "    hour as seen on a 24-hour clock.\n",
        "\n",
        "    Precondition: hours >= 0\n",
        "\n",
        "    >>> to_24_hour_clock(24)\n",
        "    0\n",
        "    >>> to_24_hour_clock(48)\n",
        "    0\n",
        "    >>> to_24_hour_clock(25)\n",
        "    1\n",
        "    >>> to_24_hour_clock(4)\n",
        "    4\n",
        "    >>> to_24_hour_clock(28.5)\n",
        "    4.5\n",
        "    \"\"\"\n",
        "\n",
        "    return hours % 24\n",
        "\n",
        "#to_24_hour_clock(24)\n",
        "#to_24_hour_clock(48)\n",
        "#to_24_hour_clock(25)\n",
        "#to_24_hour_clock(4)\n",
        "to_24_hour_clock(28.5)"
      ],
      "metadata": {
        "colab": {
          "base_uri": "https://localhost:8080/"
        },
        "id": "b4G9fBMqjCqR",
        "outputId": "c4d7ca29-cc69-4e74-a176-bd4e46d020d3"
      },
      "execution_count": null,
      "outputs": [
        {
          "output_type": "execute_result",
          "data": {
            "text/plain": [
              "4.5"
            ]
          },
          "metadata": {},
          "execution_count": 97
        }
      ]
    },
    {
      "cell_type": "markdown",
      "source": [
        "**STEP 5** ▶ ▶"
      ],
      "metadata": {
        "id": "XRMET2IsFpgP"
      }
    },
    {
      "cell_type": "code",
      "source": [
        "def get_hours(time):\n",
        "  \"\"\"\n",
        "  (number) -> number\n",
        "\n",
        "  it determines the hours part from a given time in seconds\n",
        "\n",
        "  Precondition: time >= 0\n",
        "\n",
        "  >>> get_hours(3800)\n",
        "  1\n",
        "  \"\"\"\n",
        "  hours_part = time // 3600\n",
        "\n",
        "  return hours_part\n",
        "\n",
        "get_hours(3800)"
      ],
      "metadata": {
        "colab": {
          "base_uri": "https://localhost:8080/"
        },
        "id": "dKrYxCp1jKtI",
        "outputId": "0f7d89b5-370c-42d9-e991-72c7c8f26139"
      },
      "execution_count": null,
      "outputs": [
        {
          "output_type": "execute_result",
          "data": {
            "text/plain": [
              "1"
            ]
          },
          "metadata": {},
          "execution_count": 119
        }
      ]
    },
    {
      "cell_type": "markdown",
      "source": [
        "**STEP 6** ▶ ▶"
      ],
      "metadata": {
        "id": "clroRRC6Fzbr"
      }
    },
    {
      "cell_type": "code",
      "source": [
        "def get_minutes(time):\n",
        "  \"\"\"\n",
        "  (number) -> number\n",
        "\n",
        "  it determines the minutes part from a given time in seconds\n",
        "\n",
        "  Precondition:  time >= 0\n",
        "\n",
        "  >>> get_minutes(3800)\n",
        "  3\n",
        "  \"\"\"\n",
        "  minutes_part = (time % 3600) // 60\n",
        "\n",
        "  return minutes_part\n",
        "\n",
        "get_minutes(3800)"
      ],
      "metadata": {
        "colab": {
          "base_uri": "https://localhost:8080/"
        },
        "id": "qpiAmp_hjKvl",
        "outputId": "93b8ef2d-32d5-4b36-b5bf-7cd73b51f70c"
      },
      "execution_count": null,
      "outputs": [
        {
          "output_type": "execute_result",
          "data": {
            "text/plain": [
              "3"
            ]
          },
          "metadata": {},
          "execution_count": 101
        }
      ]
    },
    {
      "cell_type": "markdown",
      "source": [
        "**STEP 7** ▶ ▶"
      ],
      "metadata": {
        "id": "RoC-BGR0F-tf"
      }
    },
    {
      "cell_type": "code",
      "source": [
        "def get_seconds(time):\n",
        "  \"\"\"\n",
        "  (number) -> number\n",
        "\n",
        "  it determines the seconds part from a given time in seconds\n",
        "\n",
        "  Precondition:  time >= 0\n",
        "\n",
        "  >>> get_seconds(3800)\n",
        "  20\n",
        "  \"\"\"\n",
        "  seconds_part = (time % 3600) % 60\n",
        "\n",
        "  return seconds_part\n",
        "\n",
        "get_seconds(3800)"
      ],
      "metadata": {
        "colab": {
          "base_uri": "https://localhost:8080/"
        },
        "id": "wyz4gTiTjKzs",
        "outputId": "6c1488ac-5aae-4800-a4c1-ad6210982019"
      },
      "execution_count": null,
      "outputs": [
        {
          "output_type": "execute_result",
          "data": {
            "text/plain": [
              "20"
            ]
          },
          "metadata": {},
          "execution_count": 77
        }
      ]
    },
    {
      "cell_type": "markdown",
      "source": [
        "**STEP 8** ▶ ▶"
      ],
      "metadata": {
        "id": "4FM6kEgjGDMT"
      }
    },
    {
      "cell_type": "code",
      "source": [
        "def time_to_utc(utc_offset, time):\n",
        "    \"\"\" (number, float) -> float\n",
        "\n",
        "    Return time at UTC+0, where utc_offset is the number of hours away from\n",
        "    UTC+0.\n",
        "\n",
        "    >>> time_to_utc(+0, 12.0)\n",
        "    12.0\n",
        "    >>> time_to_utc(+1, 12.0)\n",
        "    11.0\n",
        "    >>> time_to_utc(-1, 12.0)\n",
        "    13.0\n",
        "    >>> time_to_utc(-11, 18.0)\n",
        "    5.0\n",
        "    >>> time_to_utc(-1, 0.0)\n",
        "    1.0\n",
        "    >>> time_to_utc(-1, 23.0)\n",
        "    0.0\n",
        "    \"\"\"\n",
        "    conversion_result = time - utc_offset\n",
        "    return conversion_result % 24\n",
        "\n",
        "#time_to_utc(+0, 12.0)\n",
        "#time_to_utc(+1, 12.0)\n",
        "#time_to_utc(-1, 12.0)\n",
        "#time_to_utc(-11, 18.0)\n",
        "#time_to_utc(-1, 0.0)\n",
        "time_to_utc(-1, 23.0)"
      ],
      "metadata": {
        "colab": {
          "base_uri": "https://localhost:8080/"
        },
        "id": "aCOkI0LWjK13",
        "outputId": "21ffbadc-31a8-473e-9122-21a10f4aeef8"
      },
      "execution_count": null,
      "outputs": [
        {
          "output_type": "execute_result",
          "data": {
            "text/plain": [
              "0.0"
            ]
          },
          "metadata": {},
          "execution_count": 96
        }
      ]
    },
    {
      "cell_type": "markdown",
      "source": [
        "**STEP 9** ▶ ▶"
      ],
      "metadata": {
        "id": "sJ5HzV7xGHWi"
      }
    },
    {
      "cell_type": "code",
      "source": [
        "def time_from_utc(utc_offset, time):\n",
        "    \"\"\" (number, float) -> float\n",
        "\n",
        "    Return UTC time in time zone utc_offset.\n",
        "\n",
        "    >>> time_from_utc(+0, 12.0)\n",
        "    12.0\n",
        "    >>> time_from_utc(+1, 12.0)\n",
        "    13.0\n",
        "    >>> time_from_utc(-1, 12.0)\n",
        "    11.0\n",
        "    >>> time_from_utc(+6, 6.0)\n",
        "    12.0\n",
        "    >>> time_from_utc(-7, 6.0)\n",
        "    23.0\n",
        "    >>> time_from_utc(-1, 0.0)\n",
        "    23.0\n",
        "    >>> time_from_utc(-1, 23.0)\n",
        "    22.0\n",
        "    >>> time_from_utc(+1, 23.0)\n",
        "    0.0\n",
        "    \"\"\"\n",
        "    conversion_result2 = time + utc_offset\n",
        "    return conversion_result2 % 24\n",
        "\n",
        "#time_from_utc(+0, 12.0)\n",
        "#time_from_utc(+1, 12.0)\n",
        "#time_from_utc(-1, 12.0)\n",
        "#time_from_utc(+6, 6.0)\n",
        "time_from_utc(-7, 6.0)\n",
        "#time_from_utc(-1, 0.0)\n",
        "#time_from_utc(-1, 23.0)\n",
        "#time_from_utc(+1, 23.0)"
      ],
      "metadata": {
        "colab": {
          "base_uri": "https://localhost:8080/"
        },
        "id": "oSWGKyO7jK4E",
        "outputId": "0f13affe-0aad-4701-9c46-eb260b60f9eb"
      },
      "execution_count": null,
      "outputs": [
        {
          "output_type": "execute_result",
          "data": {
            "text/plain": [
              "23.0"
            ]
          },
          "metadata": {},
          "execution_count": 118
        }
      ]
    },
    {
      "cell_type": "markdown",
      "source": [
        "**Flight status report**"
      ],
      "metadata": {
        "id": "iohz5IMqpQIX"
      }
    },
    {
      "cell_type": "code",
      "source": [
        "def report_status(scheduled_time, estimated_time):\n",
        "\n",
        "  \"\"\"\n",
        "  (number, number) -> str\n",
        "\n",
        "Returns the flight status (on time, early, delayed) for a flight that was scheduled to arrive at a scheduled time, but is now estimated to arrive at an estimated time.\n",
        "\n",
        "Precondition : 0.0 <= scheduled_time < 24 and 0.0 <= estimated_time < 24\n",
        "\n",
        "  >>>report_status(14.6, 14.6)\n",
        "  'on time'\n",
        "  >>>report_status(12.5, 11.5)\n",
        "  'early'\n",
        "  >>>report_status(9.0, 9.5)\n",
        "  'delayed'\n",
        "  \"\"\"\n",
        "\n",
        "  if scheduled_time == estimated_time :\n",
        "    return 'on time'\n",
        "  elif scheduled_time > estimated_time :\n",
        "    return 'early'\n",
        "  else:\n",
        "    return 'delayed'\n",
        "\n",
        "#report_status(14.6, 14.6)\n",
        "#report_status(12.5, 11.5)\n",
        "report_status(9.0, 9.5)\n"
      ],
      "metadata": {
        "id": "qUFjp3D8pU78"
      },
      "execution_count": null,
      "outputs": []
    },
    {
      "cell_type": "markdown",
      "source": [
        "This marks the end of my programming assignment, thank you so much for watching, I hope it was helpful for what you needed in some capacity ❗ 🙏"
      ],
      "metadata": {
        "id": "26iKOP3eGNZ8"
      }
    }
  ]
}